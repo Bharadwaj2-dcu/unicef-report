{
 "cells": [
  {
   "cell_type": "code",
   "execution_count": 5,
   "id": "fdd37c04",
   "metadata": {},
   "outputs": [
    {
     "name": "stdout",
     "output_type": "stream",
     "text": [
      "CSV columns:\n",
      " Index(['country', 'alpha_2_code', 'alpha_3_code', 'numeric_code', 'indicator',\n",
      "       'time_period', 'obs_value', 'sex', 'unit_multiplier', 'unit_of_measure',\n",
      "       'observation_status', 'current_age'],\n",
      "      dtype='object')\n",
      "\n",
      "Shapefile columns:\n",
      " Index(['featurecla', 'scalerank', 'LABELRANK', 'SOVEREIGNT', 'SOV_A3',\n",
      "       'ADM0_DIF', 'LEVEL', 'TYPE', 'TLC', 'ADMIN',\n",
      "       ...\n",
      "       'FCLASS_TR', 'FCLASS_ID', 'FCLASS_PL', 'FCLASS_GR', 'FCLASS_IT',\n",
      "       'FCLASS_NL', 'FCLASS_SE', 'FCLASS_BD', 'FCLASS_UA', 'geometry'],\n",
      "      dtype='object', length=169)\n"
     ]
    }
   ],
   "source": [
    "import geopandas as gpd\n",
    "import pandas as pd\n",
    "\n",
    "# Load your CSV\n",
    "df = pd.read_csv(\"unicef_indicator_cleaned.csv\")\n",
    "print(\"CSV columns:\\n\", df.columns)\n",
    "\n",
    "# Load the shapefile\n",
    "shapefile_path = r'C:\\Users\\satya\\OneDrive\\Desktop\\unicef_project\\ne_110m_admin_0_countries.shp'\n",
    "world = gpd.read_file(shapefile_path)\n",
    "print(\"\\nShapefile columns:\\n\", world.columns)\n"
   ]
  },
  {
   "cell_type": "code",
   "execution_count": null,
   "id": "e0d9df76",
   "metadata": {},
   "outputs": [],
   "source": []
  }
 ],
 "metadata": {
  "kernelspec": {
   "display_name": "Python 3 (ipykernel)",
   "language": "python",
   "name": "python3"
  },
  "language_info": {
   "codemirror_mode": {
    "name": "ipython",
    "version": 3
   },
   "file_extension": ".py",
   "mimetype": "text/x-python",
   "name": "python",
   "nbconvert_exporter": "python",
   "pygments_lexer": "ipython3",
   "version": "3.11.5"
  }
 },
 "nbformat": 4,
 "nbformat_minor": 5
}
